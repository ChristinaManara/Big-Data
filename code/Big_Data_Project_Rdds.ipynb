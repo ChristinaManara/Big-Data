{
 "cells": [
  {
   "cell_type": "code",
   "execution_count": 1,
   "metadata": {
    "id": "KpuG5fuIrwlv"
   },
   "outputs": [],
   "source": [
    "import findspark\n",
    "findspark.init() \n",
    "from pyspark.sql import functions as F\n",
    "from pyspark.sql import Window\n",
    "from pyspark.sql.types import *\n",
    "import time"
   ]
  },
  {
   "cell_type": "code",
   "execution_count": 2,
   "metadata": {
    "id": "-0AgBUSWr6-h"
   },
   "outputs": [],
   "source": [
    "from pyspark.sql import SparkSession\n",
    "# starting SparkSession\n",
    "spark = SparkSession \\\n",
    "        .builder \\\n",
    "        .appName(\"RDD\") \\\n",
    "        .config(\"spark.ui.port\",\"4041\") \\\n",
    "        .config(\"spark.executor.memory\", \"2g\") \\\n",
    "        .config(\"spark.executor.cores\", \"2\") \\\n",
    "        .config(\"spark.task.maxFailures\", \"8\") \\\n",
    "        .getOrCreate()"
   ]
  },
  {
   "cell_type": "markdown",
   "metadata": {
    "id": "zSasTpFPsxP8"
   },
   "source": [
    "# Read csvs files with inferschema variable"
   ]
  },
  {
   "cell_type": "code",
   "execution_count": 3,
   "metadata": {
    "id": "dQ_Pv0isz4h2"
   },
   "outputs": [],
   "source": [
    "import csv\n",
    "sc = spark.sparkContext\n",
    "\n",
    "# Read artist.csv\n",
    "artists = sc.textFile(\"hdfs://master:9000/files/artists.csv\")\\\n",
    "            .map(lambda x : list(csv.reader([x], delimiter=',', quotechar='\"'))[0])\n",
    "\n",
    "# Read chart_artist_mapping.csv\n",
    "chart_artist_mapping = sc.textFile(\"hdfs://master:9000/files/chart_artist_mapping.csv\")\\\n",
    "                         .map(lambda x : list(csv.reader([x], delimiter=',', quotechar='\"'))[0])\n",
    "\n",
    "# Read charts.csv\n",
    "charts = sc.textFile(\"hdfs://master:9000/files/charts.csv\")\\\n",
    "           .map(lambda x : list(csv.reader([x], delimiter=',', quotechar='\"'))[0])\n",
    "\n",
    "# Read regions.csv\n",
    "regions = sc.textFile(\"hdfs://master:9000/files/regions.csv\")\\\n",
    "            .map(lambda x : list(csv.reader([x], delimiter=',', quotechar='\"'))[0])"
   ]
  },
  {
   "cell_type": "code",
   "execution_count": 4,
   "metadata": {},
   "outputs": [],
   "source": [
    "from operator import add\n",
    "def toCSVLine(data):\n",
    "    return ','.join(str(d) for d in data)"
   ]
  },
  {
   "cell_type": "markdown",
   "metadata": {
    "id": "tptSg82ts49p"
   },
   "source": [
    "# Method SparkSQL with CSV file as input file"
   ]
  },
  {
   "cell_type": "markdown",
   "metadata": {
    "id": "YfCdILcFs_iQ"
   },
   "source": [
    "## Q1: Ποιο είναι το συνολικό πλήθος των streams που έχουν καταγραφεί για το τραγούδι με τίτλο “Shape of You”, σύμφωνα με τα top200 charts?\n",
    "Ως αποτελέσμα να δωθεί μόνο ένας αριθμός με το πλήθος"
   ]
  },
  {
   "cell_type": "code",
   "execution_count": null,
   "metadata": {
    "id": "xeABf147s4VD"
   },
   "outputs": [],
   "source": [
    "q1_rdd = charts.filter(lambda x: x[1] == \"Shape of You\" and x[5] == \"top200\")\\\n",
    "               .map(lambda x: (1, (int(x[7]))))\\\n",
    "               .reduceByKey(lambda x, y : x + y)"
   ]
  },
  {
   "cell_type": "code",
   "execution_count": null,
   "metadata": {
    "colab": {
     "base_uri": "https://localhost:8080/"
    },
    "id": "chtCmR0zU4oU",
    "outputId": "a5c22da7-4173-41f0-cf00-637f07a6d81e"
   },
   "outputs": [],
   "source": [
    "start_time = time.time()\n",
    "q1_rdd.map(toCSVLine).coalesce(1).saveAsTextFile('hdfs://master:9000/outputs/q1_rdd')\n",
    "print(\"Execution Time for q1(rdd) is: \",time.time() - start_time)"
   ]
  },
  {
   "cell_type": "markdown",
   "metadata": {
    "id": "TBn0Pq8j1bgs"
   },
   "source": [
    "## Q2: Για κάθε chart, να βρεθεί το τραγούδι με τον μεγαλύτερο μέσο χρόνο παραμονής (δείτε «Υποδείξεις») στην πρώτη θέση.\n",
    "Ως αποτέλεσμα, αναμένονται δύο γραμμές, μία για κάθε chart στην μορφή:\n",
    "όνομα_chart, όνομα_τραγουδιού, μέσος_χρόνος_παραμονής_θέση#1\n",
    "Αναμενόμενο αποτέλεσμα στο viral50 chart viral50,Calma - Remix,24.985507"
   ]
  },
  {
   "cell_type": "code",
   "execution_count": null,
   "metadata": {
    "id": "lGjW0kziU6xF"
   },
   "outputs": [],
   "source": [
    "# Step 1: filtering over the case of rank == 1\n",
    "# Step 2: tuple of (chart(x[5]), song_title(x[1]), 1) \n",
    "# Step 3: count over same keys \n",
    "# Step 4: find the average time -> tuple of (chart, song_title, avg_time)\n",
    "# Step 5: convert the original RDD to a pair-RDD \n",
    "# Step 6: find the element with max(count) for chart\n",
    "\n",
    "q2_rdd = charts.filter(lambda x: x[2] == '1')\\\n",
    "               .map(lambda x: ((x[5], x[1]), 1))\\\n",
    "               .reduceByKey(lambda x, y: x + y)"
   ]
  },
  {
   "cell_type": "code",
   "execution_count": null,
   "metadata": {},
   "outputs": [],
   "source": [
    "q2_rdd_max = q2_rdd.map(lambda x: (x[0][0], x[0][1], x[1]/69))\\\n",
    "                   .keyBy(lambda x: x[0])\\\n",
    "                   .reduceByKey(lambda x, y: x if x[2] >= y[2] else y)\\\n",
    "                   .values()"
   ]
  },
  {
   "cell_type": "code",
   "execution_count": null,
   "metadata": {
    "colab": {
     "base_uri": "https://localhost:8080/"
    },
    "id": "XTc2mPCC__mP",
    "outputId": "027db303-4bfe-4275-d410-4a7327db2650"
   },
   "outputs": [],
   "source": [
    "start_time = time.time()\n",
    "q2_rdd_max.map(toCSVLine).coalesce(1).saveAsTextFile('hdfs://master:9000/outputs/q2_rdd')\n",
    "print(\"Execution Time for q2(rdd) is: \",time.time() - start_time)"
   ]
  },
  {
   "cell_type": "markdown",
   "metadata": {
    "id": "uMvrOl1SQqvm"
   },
   "source": [
    "## Q3: Από τα top200 charts, να βρεθεί για κάθε μήνα της κάθε χρονιάς, το μέσο ημερήσιο πλήθος streams του τραγουδιού που βρίσκεται στην θέση 1 (δείτε «Υποδείξεις»), ταξινομημένα ως προς την χρονιά και τον μήνα."
   ]
  },
  {
   "cell_type": "code",
   "execution_count": null,
   "metadata": {},
   "outputs": [],
   "source": [
    "q3_filtered = charts.filter(lambda x: x[2] == '1' and x[5] == 'top200')"
   ]
  },
  {
   "cell_type": "code",
   "execution_count": null,
   "metadata": {
    "id": "0Gg9acZlQp5g"
   },
   "outputs": [],
   "source": [
    "q3_rdd_dist_count = q3_filtered.map(lambda x: ((x[3].split(\"T\")[0][0:4], x[3].split(\"T\")[0][5:7], x[3].split(\"T\")[0][8:]), 1))\\\n",
    "                               .reduceByKey(lambda x, y: x + y)\\\n",
    "                               .map(lambda x: ((x[0][0], x[0][1]), 1))\\\n",
    "                               .reduceByKey(lambda x, y: x + y)"
   ]
  },
  {
   "cell_type": "code",
   "execution_count": null,
   "metadata": {},
   "outputs": [],
   "source": [
    "q3_rdd_sum = q3_filtered.map(lambda x: ((x[3].split(\"T\")[0][0:4], x[3].split(\"T\")[0][5:7]), int(x[7])))\\\n",
    "                        .reduceByKey(lambda x, y: x + y)"
   ]
  },
  {
   "cell_type": "code",
   "execution_count": null,
   "metadata": {},
   "outputs": [],
   "source": [
    "q3_rdd_joined = q3_rdd_dist_count.join(q3_rdd_sum)\\\n",
    "                                 .map(lambda x: (x[0], x[1][1]/x[1][0]))\\\n",
    "                                 .sortByKey()"
   ]
  },
  {
   "cell_type": "code",
   "execution_count": null,
   "metadata": {},
   "outputs": [],
   "source": [
    "start_time = time.time()\n",
    "q3_rdd_joined.map(toCSVLine).coalesce(1).saveAsTextFile('hdfs://master:9000/outputs/q3_rdd')\n",
    "print(\"Execution Time for q3(rdd) is: \",time.time() - start_time)"
   ]
  },
  {
   "cell_type": "markdown",
   "metadata": {
    "id": "uavWiIAGjoV2"
   },
   "source": [
    "## Q4: Από τα viral50 charts, βρείτε για κάθε χώρα το (ή τα σε περίπτωση ισοψηφίας) τραγούδια με το μεγαλύτερο πλήθος παραμονής στο charts. Ταξινομείστε τα αποτελέσματα σας ως προς το όνομα της χώρας και το όνομα του τραγουδιού. Ως αποτέλεσμα δώστε μία γραμμή για κάθε τραγούδι κάθε χώρας στην μορφή :\n",
    "χώρα, id_τραγουδιού, όνομα_τραγουδιού, πλήθος_παραμονής_στο_viral50"
   ]
  },
  {
   "cell_type": "code",
   "execution_count": 15,
   "metadata": {
    "id": "F5acCSB3-RCT"
   },
   "outputs": [],
   "source": [
    "from typing import Tuple, List\n",
    "\n",
    "def myFunc(x, y):\n",
    "    if x[3] > y[3]:\n",
    "        return x\n",
    "    elif x[3] == y[3]: \n",
    "        return x + y\n",
    "    else:\n",
    "        return y\n",
    "\n",
    "def processor(x):\n",
    "    if len(x) > 4:\n",
    "        conv_to_list = list(x)\n",
    "        times = len(conv_to_list) // 4\n",
    "        t = [conv_to_list[((len(conv_to_list) - 4)*start):(start+1)*(len(conv_to_list) - 4):] for start in range(times)]\n",
    "        return tuple((v[0], v[1], v[2], v[3]) for v in t)\n",
    "    else:\n",
    "        return (x[0], (x[1][0], x[1][1], x[1][2], x[1][3]))\n",
    "\n",
    "q4_rdd = charts.filter(lambda x: x[5] == \"viral50\")\\\n",
    "               .map(lambda x: ((x[4], x[0], x[1]), 1))\\\n",
    "               .reduceByKey(lambda x, y: x + y)\\\n",
    "               .map(lambda x: (x[0][0], x[0][1], x[0][2], x[1]))\\\n",
    "               .keyBy(lambda x: x[0])\\\n",
    "               .reduceByKey(myFunc)\\\n",
    "               .map(lambda x: (x[1][3], (x[1][0], x[1][1], x[1][2])))\\\n",
    "               .sortByKey(ascending=False)\\\n",
    "               .map(lambda x: (x[1][0], (x[1][1], x[1][2], x[0])))\\\n",
    "               .join(regions)\\\n",
    "               .map(lambda x: ((x[1][1], x[1][0][1]), (x[1][0][0], x[1][0][2])))\\\n",
    "               .sortByKey(ascending=True)\\\n",
    "               .map(lambda x: (x[0][0], x[1][0], x[0][1], x[1][1]))\n",
    "                \n",
    "#.flatMap(lambda x: map(lambda y: y, processor(x)))\\"
   ]
  },
  {
   "cell_type": "code",
   "execution_count": 16,
   "metadata": {},
   "outputs": [
    {
     "name": "stdout",
     "output_type": "stream",
     "text": [
      "Execution Time for q5(rdd) is:  2.2607812881469727\n"
     ]
    }
   ],
   "source": [
    "start_time = time.time()\n",
    "q4_rdd.map(toCSVLine).coalesce(1).saveAsTextFile('hdfs://master:9000/outputs/q4_rdd')\n",
    "print(\"Execution Time for q5(rdd) is: \",time.time() - start_time)"
   ]
  },
  {
   "cell_type": "markdown",
   "metadata": {
    "id": "EDiaXE4Gjs0v"
   },
   "source": [
    "## Q5:Σύμφωνα με τα top200, βρείτε σε κάθε χρονιά τον καλλιτέχνη με το μεγαλύτερο μέσο πλήθος streams. Ταξινομείστε ως προς τη χρονιά.\n",
    "Ως αποτελέσμα, δώστε για κάθε χρονιά μία γραμμή στην εξής μορφή\n",
    "χρονιά, όνομα_καλλιτέχνη, μέσο_πλήθος_streams"
   ]
  },
  {
   "cell_type": "code",
   "execution_count": 17,
   "metadata": {
    "id": "qLzbedc1jtOp"
   },
   "outputs": [],
   "source": [
    "q5_rdd = charts.filter(lambda x: x[5] == \"top200\")\\\n",
    "               .map(lambda x: (x[0], (x[3].split(\"T\")[0].split(\"-\")[0], int(x[7]))))\\\n",
    "               .leftOuterJoin(chart_artist_mapping)\\\n",
    "               .map(lambda x: (x[1][1], (x[0], x[1][0][0], x[1][0][1])))\\\n",
    "               .join(artists)\\\n",
    "               .map(lambda x: ((x[1][0][1], x[0], x[1][1]), x[1][0][2]))\\\n",
    "               .reduceByKey(lambda x, y: x + y)\\\n",
    "               .map(lambda x: (x[0][0], x[0][2], x[1]/69))\\\n",
    "               .keyBy(lambda x: x[0])\\\n",
    "               .reduceByKey(lambda x,y: x if x[2] >= y[2] else y)\\\n",
    "               .values()"
   ]
  },
  {
   "cell_type": "code",
   "execution_count": 18,
   "metadata": {},
   "outputs": [
    {
     "name": "stdout",
     "output_type": "stream",
     "text": [
      "Execution Time for q5(rdd) is:  233.56186985969543\n"
     ]
    }
   ],
   "source": [
    "start_time = time.time()\n",
    "q5_rdd.map(toCSVLine).coalesce(1).saveAsTextFile('hdfs://master:9000/outputs/q5_rdd')\n",
    "print(\"Execution Time for q5(rdd) is: \",time.time() - start_time)"
   ]
  },
  {
   "cell_type": "markdown",
   "metadata": {
    "id": "sqj3G2z-jvYb"
   },
   "source": [
    "## Q6: Για την Ελλάδα, βρείτε για κάθε χρονιά και chart τον καλλιτέχνη (ή τους καλλιτέχνες) που έχει (έχουν) παραμείνει διαδοχικές ημέρες περισσότερες φορές στο #1 κάποιο από τα τραγούδια του. Ταξινομείστε ως προς το chart και τη χρονιά.\n",
    "Ως αποτελέσμα δώστε μία γραμμή για κάθε καλλιτέχνη κάθε χρονιάς στη μορφή: όνομα_chart, χρονιά, όνομα καλλιτέχνη, ημέρες_διαδοχικής_παραμονής_#1"
   ]
  },
  {
   "cell_type": "code",
   "execution_count": null,
   "metadata": {},
   "outputs": [],
   "source": [
    "q6_rdd = charts.filter(lambda x: x[2] == '1' and x[6] == 'SAME_POSITION' and x[4] == '23')\\\n",
    "               .map(lambda x: ((x[5], x[3].split(\"-\")[0], x[0]), 1))\\\n",
    "               .reduceByKey(lambda x, y: x + y)\\\n",
    "               .map(lambda x: ((x[0][0], x[0][1], x[1]), x[0][2]))"
   ]
  },
  {
   "cell_type": "code",
   "execution_count": null,
   "metadata": {},
   "outputs": [],
   "source": [
    "q6_rdd_max = q6_rdd.map(lambda x: ((x[0][0], x[0][1]), x[0][2]))\\\n",
    "                    .reduceByKey(lambda x, y: x if x >= y else y)\\\n",
    "                    .map(lambda x: ((x[0][0], x[0][1], x[1]), 1))"
   ]
  },
  {
   "cell_type": "code",
   "execution_count": null,
   "metadata": {
    "id": "m5nI45D7jv2c"
   },
   "outputs": [],
   "source": [
    "q6_rdd_joined = q6_rdd.join(q6_rdd_max)\\\n",
    "                      .map(lambda x: ((x[1][0]), (x[0][0], x[0][1], x[0][2])))\\\n",
    "                      .join(chart_artist_mapping)\\\n",
    "                      .map(lambda x: (x[1][1], (x[1][0][0], x[1][0][1], x[1][0][2])))\\\n",
    "                      .join(artists)\\\n",
    "                      .map(lambda x: (x[1][0][0], x[1][0][1], x[1][1], x[1][0][2]))\\\n",
    "                      .sortBy(lambda x: x[0], ascending=False)"
   ]
  },
  {
   "cell_type": "code",
   "execution_count": null,
   "metadata": {},
   "outputs": [],
   "source": [
    "start_time = time.time()\n",
    "q6_rdd_joined.map(toCSVLine).coalesce(1).saveAsTextFile('hdfs://master:9000/outputs/q6_rdd')\n",
    "print(\"Execution Time for q6(rdd) is: \",time.time() - start_time)"
   ]
  },
  {
   "cell_type": "code",
   "execution_count": null,
   "metadata": {},
   "outputs": [],
   "source": [
    "# for x in q6_rdd_joined.take(100):\n",
    "#     print(x)"
   ]
  },
  {
   "cell_type": "code",
   "execution_count": null,
   "metadata": {},
   "outputs": [],
   "source": [
    "spark.stop()"
   ]
  },
  {
   "cell_type": "code",
   "execution_count": null,
   "metadata": {},
   "outputs": [],
   "source": []
  }
 ],
 "metadata": {
  "colab": {
   "collapsed_sections": [],
   "name": "Big_Data_Project_Rdds.ipynb",
   "provenance": []
  },
  "kernelspec": {
   "display_name": "Python 3",
   "language": "python",
   "name": "python3"
  },
  "language_info": {
   "codemirror_mode": {
    "name": "ipython",
    "version": 3
   },
   "file_extension": ".py",
   "mimetype": "text/x-python",
   "name": "python",
   "nbconvert_exporter": "python",
   "pygments_lexer": "ipython3",
   "version": "3.5.2"
  }
 },
 "nbformat": 4,
 "nbformat_minor": 1
}
